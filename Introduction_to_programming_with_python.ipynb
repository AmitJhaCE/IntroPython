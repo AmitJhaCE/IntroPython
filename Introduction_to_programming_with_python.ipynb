{
 "cells": [
  {
   "cell_type": "markdown",
   "id": "a3adc0b3-2f72-4365-9bd0-0aadac659eb1",
   "metadata": {},
   "source": [
    "# Introduction to Programming with Python"
   ]
  },
  {
   "cell_type": "markdown",
   "id": "9b28d7cf-9f1e-4b5f-900b-9f87322c1371",
   "metadata": {},
   "source": [
    "### Reference material for course - Python tutorial \n",
    "https://docs.python.org/3/tutorial/index.html"
   ]
  },
  {
   "cell_type": "markdown",
   "id": "70875b38-c381-4293-9b86-9b4d1ee18d89",
   "metadata": {},
   "source": [
    "## Everything in Python is an object"
   ]
  },
  {
   "cell_type": "markdown",
   "id": "bd8eb82a-1329-43ab-a1a0-0f5ea518ef4d",
   "metadata": {},
   "source": [
    "### Think of objects as a container for data"
   ]
  },
  {
   "cell_type": "markdown",
   "id": "c267b387-29d9-4e4c-805e-f275da0a1b18",
   "metadata": {},
   "source": [
    "#### Consider the following example"
   ]
  },
  {
   "cell_type": "code",
   "execution_count": 13,
   "id": "935d2abb-8abc-4e2d-96fc-b8f4e535cc06",
   "metadata": {},
   "outputs": [],
   "source": [
    "x = 3.1456"
   ]
  },
  {
   "cell_type": "markdown",
   "id": "df87f2d0-11be-4084-8c8e-cffb932d4310",
   "metadata": {},
   "source": [
    "* Above we have declared a variable called 'x' and we have assigned it a value of 3.1456.\n",
    "* Internally python has created an object of type float to store this number - this is a built in object.\n",
    "* It then points the variable x to that object. It is important to understand that variable names are not bound to objects, but only assigned. They can later be reassigned.\n",
    "* To check type of any object we can use the built in function `type` and pass it the `object or the variable` as argument as shown."
   ]
  },
  {
   "cell_type": "code",
   "execution_count": 17,
   "id": "a29e3f7e-4c0a-4394-8b7a-7b9156ee7013",
   "metadata": {},
   "outputs": [
    {
     "data": {
      "text/plain": [
       "(float, float)"
      ]
     },
     "execution_count": 17,
     "metadata": {},
     "output_type": "execute_result"
    }
   ],
   "source": [
    "type(x), type(3.1456)"
   ]
  },
  {
   "cell_type": "markdown",
   "id": "293a38f7-a191-477c-954f-80fd4afaa11d",
   "metadata": {},
   "source": [
    "#### Objects define properties, functions and operations that can be used to work with the data contained in the object.\n",
    "\n",
    "We can visualize an object as a wrapper or an enclosure around the data. Essentially this enclosure allows / restricts access to the data. Objects provide properties with which we can gain information about the data. Objects also provide methods / functions by which we can get or mutate / change the data. \n",
    "\n",
    "Mostly programming comes down to learning how to work with these objects. <br>\n",
    "\n",
    "* Documentation for reference - https://docs.python.org/3/library/stdtypes.html#numeric-types-int-float-complex"
   ]
  },
  {
   "cell_type": "markdown",
   "id": "d47362e7-4d51-472d-91fe-2a61698638f7",
   "metadata": {},
   "source": [
    "#### Consider some of the operations available on float objects"
   ]
  },
  {
   "cell_type": "code",
   "execution_count": 18,
   "id": "e74fd9dc-95c2-4791-a3d6-046c96e7c813",
   "metadata": {},
   "outputs": [],
   "source": [
    "x, y = 3.1456, 10"
   ]
  },
  {
   "cell_type": "code",
   "execution_count": 19,
   "id": "5b5adcda-47f5-4ea2-8b65-c5f37b09e130",
   "metadata": {},
   "outputs": [
    {
     "data": {
      "text/plain": [
       "(float, int)"
      ]
     },
     "execution_count": 19,
     "metadata": {},
     "output_type": "execute_result"
    }
   ],
   "source": [
    "type(x), type(y)"
   ]
  },
  {
   "cell_type": "code",
   "execution_count": 20,
   "id": "3f8c3b40-2b56-406b-8923-cb762a437ace",
   "metadata": {},
   "outputs": [
    {
     "data": {
      "text/plain": [
       "float"
      ]
     },
     "execution_count": 20,
     "metadata": {},
     "output_type": "execute_result"
    }
   ],
   "source": [
    "type(x + y)"
   ]
  },
  {
   "cell_type": "markdown",
   "id": "ed2e47dd-13f2-49ad-a2d6-595fcf1bd4c6",
   "metadata": {},
   "source": [
    "Mathematical operations that include floats -> to conduct the operation, python will create a float object and assign it value 10."
   ]
  },
  {
   "cell_type": "code",
   "execution_count": 21,
   "id": "7f2c3254-0a4b-426f-852b-8219a807c4f2",
   "metadata": {},
   "outputs": [
    {
     "data": {
      "text/plain": [
       "3.15"
      ]
     },
     "execution_count": 21,
     "metadata": {},
     "output_type": "execute_result"
    }
   ],
   "source": [
    "round(x, 2)"
   ]
  },
  {
   "cell_type": "code",
   "execution_count": 22,
   "id": "637fe815-edda-428e-bbba-a2eff406a708",
   "metadata": {},
   "outputs": [
    {
     "data": {
      "text/plain": [
       "(1770815373482079, 562949953421312)"
      ]
     },
     "execution_count": 22,
     "metadata": {},
     "output_type": "execute_result"
    }
   ],
   "source": [
    "x.as_integer_ratio()"
   ]
  },
  {
   "cell_type": "code",
   "execution_count": null,
   "id": "d29335ce-2189-45c1-858f-90d024de6ab2",
   "metadata": {},
   "outputs": [],
   "source": []
  },
  {
   "cell_type": "code",
   "execution_count": null,
   "id": "985607bc-8781-4757-bd95-94b5376566cc",
   "metadata": {},
   "outputs": [],
   "source": []
  },
  {
   "cell_type": "code",
   "execution_count": null,
   "id": "1eaf5707-469c-4e81-96d2-e25e973d789e",
   "metadata": {},
   "outputs": [],
   "source": []
  },
  {
   "cell_type": "code",
   "execution_count": null,
   "id": "364c50af-352e-4205-b4c8-fc64e811955f",
   "metadata": {},
   "outputs": [],
   "source": []
  },
  {
   "cell_type": "code",
   "execution_count": null,
   "id": "9fd2f382-cf28-4e96-aad6-6726061ce293",
   "metadata": {},
   "outputs": [],
   "source": []
  },
  {
   "cell_type": "markdown",
   "id": "9dd69a25-28b0-48ad-8e75-8f4161846b32",
   "metadata": {
    "tags": []
   },
   "source": [
    "Consider some text data, say for example `'Amit Kumar Jha'` (in python text refers to an object of the type string, we declare this to the python interpreter by wrapping the text within single or double quotes). "
   ]
  },
  {
   "cell_type": "code",
   "execution_count": 6,
   "id": "b06c723f-27e3-4ec5-93db-3a3e32580057",
   "metadata": {},
   "outputs": [],
   "source": [
    "name = 'Amit Kumar Jha'"
   ]
  },
  {
   "cell_type": "markdown",
   "id": "328146c1-2fab-41e3-8ecb-b3f351262829",
   "metadata": {
    "tags": []
   },
   "source": [
    "### To access methods available in python string objects we can use the dot notation\n",
    "If we write the variable name and press dot like name. (and then press tab) -> Jupyter notebook will show the methods and properties available. </br>\n",
    "Resource - Python docs for strings\n",
    "https://docs.python.org/3/library/stdtypes.html#text-sequence-type-str </br>\n",
    "Please open the doc in another tab for the next section"
   ]
  },
  {
   "cell_type": "markdown",
   "id": "5adc3261-c9b0-43a5-bed9-ea57b645026b",
   "metadata": {},
   "source": [
    "### Consider the following functions / methods available on string objects"
   ]
  },
  {
   "cell_type": "code",
   "execution_count": 7,
   "id": "3c35ca95-a685-4999-8f6c-ece2fc1a6fe1",
   "metadata": {},
   "outputs": [
    {
     "data": {
      "text/plain": [
       "'Amit kumar jha'"
      ]
     },
     "execution_count": 7,
     "metadata": {},
     "output_type": "execute_result"
    }
   ],
   "source": [
    "name.capitalize()"
   ]
  },
  {
   "cell_type": "code",
   "execution_count": 8,
   "id": "826b9708-9421-43e6-bec4-9a43487e0e90",
   "metadata": {},
   "outputs": [
    {
     "data": {
      "text/plain": [
       "'Amit Kumar Jha'"
      ]
     },
     "execution_count": 8,
     "metadata": {},
     "output_type": "execute_result"
    }
   ],
   "source": [
    "name"
   ]
  },
  {
   "cell_type": "markdown",
   "id": "83de8734-22c9-4c60-9949-70ef50856fa0",
   "metadata": {},
   "source": [
    "* We can call functions as shown above. Here, the function capitalize, provided by string objects has been called.\n",
    "* The function returns a new string object with only the first letter capitalized. Notice the middle and last names have their first letters small.\n",
    "* The general template is object_name.function_name(argument_1, argument_2, ...). \n",
    "* In our case the the string object 'Amit Kumar Jha' is stored as name. \n",
    "* Also for the capitaliize function, there are no arguments to pass to the function. \n",
    "* In general, functions can accept zero or more arguments.\n",
    "* The variable name is still referring to the old object and its content has not been changed.\n",
    "* Also, pointing the variable to the new object will change the contents of the variable"
   ]
  },
  {
   "cell_type": "code",
   "execution_count": 10,
   "id": "6b49bc97-8a53-49c4-948e-8169c6025f89",
   "metadata": {},
   "outputs": [],
   "source": [
    "name = name.capitalize()"
   ]
  },
  {
   "cell_type": "code",
   "execution_count": 11,
   "id": "0c817378-9bd3-42a0-ab2c-cdc5eeab59de",
   "metadata": {},
   "outputs": [
    {
     "data": {
      "text/plain": [
       "'Amit kumar jha'"
      ]
     },
     "execution_count": 11,
     "metadata": {},
     "output_type": "execute_result"
    }
   ],
   "source": [
    "name"
   ]
  },
  {
   "cell_type": "code",
   "execution_count": null,
   "id": "afbb4cda-d15c-4c38-9875-378b38eeb5e7",
   "metadata": {},
   "outputs": [],
   "source": []
  },
  {
   "cell_type": "code",
   "execution_count": null,
   "id": "08508d48-081b-42d8-af4f-8f9e7970c405",
   "metadata": {},
   "outputs": [],
   "source": []
  },
  {
   "cell_type": "code",
   "execution_count": null,
   "id": "4da1b8fe-a3b9-44b8-a2c4-90a8e0df116d",
   "metadata": {},
   "outputs": [],
   "source": []
  },
  {
   "cell_type": "code",
   "execution_count": null,
   "id": "9e53923c-1e4f-4b4a-a2ee-fcb220575272",
   "metadata": {},
   "outputs": [],
   "source": []
  },
  {
   "cell_type": "code",
   "execution_count": null,
   "id": "f8f776d1-28b8-44e2-aa2f-eb693964a5c2",
   "metadata": {},
   "outputs": [],
   "source": []
  },
  {
   "cell_type": "code",
   "execution_count": null,
   "id": "89038e95-1066-4d20-a046-927ab57b58f5",
   "metadata": {},
   "outputs": [],
   "source": []
  },
  {
   "cell_type": "code",
   "execution_count": null,
   "id": "0479572d-f598-46bb-864d-320bfa20027f",
   "metadata": {},
   "outputs": [],
   "source": []
  },
  {
   "cell_type": "code",
   "execution_count": null,
   "id": "8cf8e1aa-e0ca-4b29-8297-8524ef5b2b42",
   "metadata": {},
   "outputs": [],
   "source": []
  },
  {
   "cell_type": "code",
   "execution_count": null,
   "id": "da760444-b6d3-4f1d-9d2b-69d46fab6017",
   "metadata": {},
   "outputs": [],
   "source": []
  },
  {
   "cell_type": "code",
   "execution_count": null,
   "id": "78cde155-2f46-45d5-a1d0-ec7dbfd9f85a",
   "metadata": {},
   "outputs": [],
   "source": []
  },
  {
   "cell_type": "code",
   "execution_count": null,
   "id": "e7310e2d-c9a0-428b-8437-ca77ed511fca",
   "metadata": {},
   "outputs": [],
   "source": []
  },
  {
   "cell_type": "code",
   "execution_count": null,
   "id": "fb729a00-9c1e-4715-b8f9-ffd354ee35ac",
   "metadata": {},
   "outputs": [],
   "source": []
  },
  {
   "cell_type": "code",
   "execution_count": null,
   "id": "5178759a-3af9-494b-be32-9b5be7aea4fc",
   "metadata": {},
   "outputs": [],
   "source": []
  },
  {
   "cell_type": "code",
   "execution_count": null,
   "id": "0aba58e8-8f52-431b-b64a-0e8b05949115",
   "metadata": {},
   "outputs": [],
   "source": []
  },
  {
   "cell_type": "code",
   "execution_count": null,
   "id": "3abb84c7-403b-4326-a514-34c9095a31e4",
   "metadata": {},
   "outputs": [],
   "source": []
  },
  {
   "cell_type": "code",
   "execution_count": null,
   "id": "7b7db52e-c2f1-4a4f-86df-3b0dd461cd29",
   "metadata": {},
   "outputs": [],
   "source": []
  },
  {
   "cell_type": "code",
   "execution_count": null,
   "id": "325a5e28-c0e5-442d-9b06-c0026aec2e12",
   "metadata": {},
   "outputs": [],
   "source": []
  },
  {
   "cell_type": "code",
   "execution_count": null,
   "id": "d72d1a5a-9d57-4302-976b-fcc893905333",
   "metadata": {},
   "outputs": [],
   "source": []
  },
  {
   "cell_type": "code",
   "execution_count": null,
   "id": "98401ab2-fafd-4030-8c2d-2d54fedf22ef",
   "metadata": {},
   "outputs": [],
   "source": []
  },
  {
   "cell_type": "code",
   "execution_count": null,
   "id": "63304a6b-a32f-43b3-977c-770b20eac7a7",
   "metadata": {},
   "outputs": [],
   "source": []
  },
  {
   "cell_type": "code",
   "execution_count": null,
   "id": "e981a32b-8d2c-4826-8a1a-95da5fc5cc92",
   "metadata": {},
   "outputs": [],
   "source": []
  },
  {
   "cell_type": "code",
   "execution_count": null,
   "id": "b7c35bbd-b5ce-4336-b74b-fe8e342c70b2",
   "metadata": {},
   "outputs": [],
   "source": []
  },
  {
   "cell_type": "code",
   "execution_count": null,
   "id": "5d284f12-5f65-4c0f-9c1d-29db2cac5ac1",
   "metadata": {},
   "outputs": [],
   "source": []
  },
  {
   "cell_type": "code",
   "execution_count": null,
   "id": "c2868506-2c6d-401c-a5a1-3a68df333a11",
   "metadata": {},
   "outputs": [],
   "source": []
  },
  {
   "cell_type": "code",
   "execution_count": null,
   "id": "c7d7d9c8-357c-4aeb-9db3-6732a08629bc",
   "metadata": {},
   "outputs": [],
   "source": []
  }
 ],
 "metadata": {
  "kernelspec": {
   "display_name": "Python 3 (ipykernel)",
   "language": "python",
   "name": "python3"
  },
  "language_info": {
   "codemirror_mode": {
    "name": "ipython",
    "version": 3
   },
   "file_extension": ".py",
   "mimetype": "text/x-python",
   "name": "python",
   "nbconvert_exporter": "python",
   "pygments_lexer": "ipython3",
   "version": "3.9.12"
  }
 },
 "nbformat": 4,
 "nbformat_minor": 5
}

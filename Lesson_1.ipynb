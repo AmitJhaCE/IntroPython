{
 "cells": [
  {
   "cell_type": "markdown",
   "id": "a58793ad-6bd8-4d74-9f5e-1fc58b08a845",
   "metadata": {},
   "source": [
    "## Introduction to python programming"
   ]
  },
  {
   "cell_type": "markdown",
   "id": "cf41d60e-161e-4930-92ba-7dd9e3b3c003",
   "metadata": {},
   "source": [
    "Compound interest formula"
   ]
  },
  {
   "cell_type": "code",
   "execution_count": 2,
   "id": "89aa4f6c-8f6f-4b9c-812f-e4f55b0e6d60",
   "metadata": {},
   "outputs": [],
   "source": [
    "p, r, n = 500000, 10, 5"
   ]
  },
  {
   "cell_type": "code",
   "execution_count": 3,
   "id": "97aa3d41-6317-4e82-adbe-f20eecbf804f",
   "metadata": {},
   "outputs": [],
   "source": [
    "interest = 1 + r/100\n",
    "interest_power = interest**n\n",
    "a = p*interest_power"
   ]
  },
  {
   "cell_type": "markdown",
   "id": "a69536bc-a7a6-4d07-9462-7fc957546be8",
   "metadata": {},
   "source": [
    "## Strings"
   ]
  },
  {
   "cell_type": "code",
   "execution_count": 4,
   "id": "56329304-5fc6-42ac-968a-9349cf947d93",
   "metadata": {},
   "outputs": [],
   "source": [
    "name = 'amit'"
   ]
  },
  {
   "cell_type": "markdown",
   "id": "a4e27ae7-0c7f-4a32-92be-c8fefe0bc69c",
   "metadata": {},
   "source": [
    "Length of the string"
   ]
  },
  {
   "cell_type": "code",
   "execution_count": 5,
   "id": "a1718c77-0a1e-410e-9bbe-837e1a108cc8",
   "metadata": {},
   "outputs": [
    {
     "data": {
      "text/plain": [
       "4"
      ]
     },
     "execution_count": 5,
     "metadata": {},
     "output_type": "execute_result"
    }
   ],
   "source": [
    "len(name)"
   ]
  },
  {
   "cell_type": "markdown",
   "id": "8fe2b566-c92b-4d12-a09e-6bb220ce3cf5",
   "metadata": {},
   "source": [
    "#### List representation of a string"
   ]
  },
  {
   "cell_type": "code",
   "execution_count": 6,
   "id": "f8ab7d85-2c9f-4e28-8aff-7b895b2e3f6b",
   "metadata": {},
   "outputs": [],
   "source": [
    "name_list = ['a', 'm', 'i', 't']"
   ]
  },
  {
   "cell_type": "code",
   "execution_count": 7,
   "id": "65b41ca4-9aeb-42b0-85ac-bbb4f803e998",
   "metadata": {},
   "outputs": [
    {
     "data": {
      "text/plain": [
       "4"
      ]
     },
     "execution_count": 7,
     "metadata": {},
     "output_type": "execute_result"
    }
   ],
   "source": [
    "len(name_list)"
   ]
  },
  {
   "cell_type": "markdown",
   "id": "fa4a9717-355d-49a4-8d62-8ce83e4aec3e",
   "metadata": {},
   "source": [
    "String manipulation functions"
   ]
  },
  {
   "cell_type": "markdown",
   "id": "fb2b6a98-1a5d-4791-ac07-8995a4c4df1b",
   "metadata": {},
   "source": [
    "For a string if we write the string or variable name, followed by a dot, then press tab, the notebook is going to give suggestions for functions available for strings"
   ]
  },
  {
   "cell_type": "code",
   "execution_count": 8,
   "id": "74e0bdc1-c10f-4ffc-a851-97c05c848634",
   "metadata": {},
   "outputs": [],
   "source": [
    "name = name.capitalize()"
   ]
  },
  {
   "cell_type": "code",
   "execution_count": 9,
   "id": "62fd09a5-f472-47fe-8656-84fd57eff68c",
   "metadata": {},
   "outputs": [
    {
     "data": {
      "text/plain": [
       "'Amit'"
      ]
     },
     "execution_count": 9,
     "metadata": {},
     "output_type": "execute_result"
    }
   ],
   "source": [
    "name"
   ]
  },
  {
   "cell_type": "markdown",
   "id": "627754ea-4d3e-4d34-9bbf-37195fab6e56",
   "metadata": {},
   "source": [
    "Split strings"
   ]
  },
  {
   "cell_type": "code",
   "execution_count": 10,
   "id": "1fbe2788-d34a-46a0-8f4e-450dc002b26e",
   "metadata": {},
   "outputs": [],
   "source": [
    "x = 'One flew over the cockoos nest.'"
   ]
  },
  {
   "cell_type": "code",
   "execution_count": 11,
   "id": "2ef508cc-b96e-4a7b-9b7e-b5221045e712",
   "metadata": {},
   "outputs": [
    {
     "data": {
      "text/plain": [
       "['One', 'flew', 'over', 'the', 'cockoos', 'nest.']"
      ]
     },
     "execution_count": 11,
     "metadata": {},
     "output_type": "execute_result"
    }
   ],
   "source": [
    "x.split(' ')"
   ]
  },
  {
   "cell_type": "code",
   "execution_count": 12,
   "id": "6d7e12d1-c602-4dc5-91f4-b5c618cea32a",
   "metadata": {},
   "outputs": [
    {
     "data": {
      "text/plain": [
       "'One flew not over the cockoos nest.'"
      ]
     },
     "execution_count": 12,
     "metadata": {},
     "output_type": "execute_result"
    }
   ],
   "source": [
    "x.replace('over', 'not over', 1)"
   ]
  },
  {
   "cell_type": "code",
   "execution_count": 13,
   "id": "db93ead4-6238-492d-8759-974e77997ab2",
   "metadata": {},
   "outputs": [],
   "source": [
    "y = x.split(' ')"
   ]
  },
  {
   "cell_type": "code",
   "execution_count": 14,
   "id": "65162538-5171-49a8-8117-0c903250cbf0",
   "metadata": {},
   "outputs": [
    {
     "data": {
      "text/plain": [
       "['One', 'flew', 'over', 'the', 'cockoos', 'nest.']"
      ]
     },
     "execution_count": 14,
     "metadata": {},
     "output_type": "execute_result"
    }
   ],
   "source": [
    "y"
   ]
  },
  {
   "cell_type": "code",
   "execution_count": 15,
   "id": "9fb05612-f6a8-414a-886f-87986e52d131",
   "metadata": {},
   "outputs": [
    {
     "data": {
      "text/plain": [
       "'One flew over the cockoos nest.'"
      ]
     },
     "execution_count": 15,
     "metadata": {},
     "output_type": "execute_result"
    }
   ],
   "source": [
    "' '.join(y)"
   ]
  },
  {
   "cell_type": "code",
   "execution_count": 16,
   "id": "0cf42b77-ef6c-4a8e-87d3-d568c5cd4d38",
   "metadata": {},
   "outputs": [
    {
     "data": {
      "text/plain": [
       "'amit'"
      ]
     },
     "execution_count": 16,
     "metadata": {},
     "output_type": "execute_result"
    }
   ],
   "source": [
    "''.join(name_list)"
   ]
  },
  {
   "cell_type": "code",
   "execution_count": 17,
   "id": "3774b25b-9614-47c1-9ebc-a2bb908ba981",
   "metadata": {},
   "outputs": [],
   "source": [
    "y = ['One', 'flew', 'over', 'the', ['a', 'm', 'i', 't'], 'cockoos', 'nest.']"
   ]
  },
  {
   "cell_type": "code",
   "execution_count": 18,
   "id": "a3f43b42-d9d5-4d0e-b9d6-80b0a8c4da8f",
   "metadata": {},
   "outputs": [
    {
     "data": {
      "text/plain": [
       "['One', 'flew', 'over', 'the', ['a', 'm', 'i', 't'], 'cockoos', 'nest.']"
      ]
     },
     "execution_count": 18,
     "metadata": {},
     "output_type": "execute_result"
    }
   ],
   "source": [
    "y"
   ]
  },
  {
   "cell_type": "code",
   "execution_count": 19,
   "id": "256e629b-7c9a-46cc-8c55-c04352d1a1fa",
   "metadata": {},
   "outputs": [
    {
     "ename": "TypeError",
     "evalue": "sequence item 4: expected str instance, list found",
     "output_type": "error",
     "traceback": [
      "\u001b[0;31m---------------------------------------------------------------------------\u001b[0m",
      "\u001b[0;31mTypeError\u001b[0m                                 Traceback (most recent call last)",
      "Input \u001b[0;32mIn [19]\u001b[0m, in \u001b[0;36m<cell line: 1>\u001b[0;34m()\u001b[0m\n\u001b[0;32m----> 1\u001b[0m \u001b[38;5;124;43m'\u001b[39;49m\u001b[38;5;124;43m \u001b[39;49m\u001b[38;5;124;43m'\u001b[39;49m\u001b[38;5;241;43m.\u001b[39;49m\u001b[43mjoin\u001b[49m\u001b[43m(\u001b[49m\u001b[43my\u001b[49m\u001b[43m)\u001b[49m\n",
      "\u001b[0;31mTypeError\u001b[0m: sequence item 4: expected str instance, list found"
     ]
    }
   ],
   "source": [
    "' '.join(y)"
   ]
  },
  {
   "cell_type": "markdown",
   "id": "9fce8a65-7c2c-45c8-b32b-3c32a7e98601",
   "metadata": {},
   "source": [
    "join only accepts list of strings"
   ]
  },
  {
   "cell_type": "markdown",
   "id": "73d52705-abda-4fba-8bd4-02909f34b5d3",
   "metadata": {},
   "source": [
    "Function arguments have to be of a specific type as defined when the function is written"
   ]
  },
  {
   "cell_type": "markdown",
   "id": "ae1acd50-6afd-4694-9337-2596b2ad5553",
   "metadata": {},
   "source": [
    "### Check if character is in a string"
   ]
  },
  {
   "cell_type": "code",
   "execution_count": 26,
   "id": "bbc98959-b2ce-47df-9aa7-e166cc38f76c",
   "metadata": {},
   "outputs": [],
   "source": [
    "name = 'amit'"
   ]
  },
  {
   "cell_type": "code",
   "execution_count": 27,
   "id": "2032b308-737a-4c3a-9def-3539cc12d383",
   "metadata": {},
   "outputs": [],
   "source": [
    "name_full = 'amit kumar jha'"
   ]
  },
  {
   "cell_type": "code",
   "execution_count": 28,
   "id": "3f64c6dd-eaf4-48df-98d2-306bffd4bcdb",
   "metadata": {},
   "outputs": [
    {
     "data": {
      "text/plain": [
       "True"
      ]
     },
     "execution_count": 28,
     "metadata": {},
     "output_type": "execute_result"
    }
   ],
   "source": [
    "name in name_full"
   ]
  },
  {
   "cell_type": "code",
   "execution_count": 29,
   "id": "7341cd82-22be-408d-8e34-eb6faa246cca",
   "metadata": {},
   "outputs": [],
   "source": [
    "name_full_list = name_full.split(' ')"
   ]
  },
  {
   "cell_type": "code",
   "execution_count": 30,
   "id": "30f5de4c-b0e1-40ce-835d-8efe85030f02",
   "metadata": {},
   "outputs": [
    {
     "data": {
      "text/plain": [
       "'amit kumar jha'"
      ]
     },
     "execution_count": 30,
     "metadata": {},
     "output_type": "execute_result"
    }
   ],
   "source": [
    "name_full"
   ]
  },
  {
   "cell_type": "markdown",
   "id": "4ecf43ff-e7d4-4940-b54a-d28d0ae88e5b",
   "metadata": {},
   "source": [
    "Check for item in list"
   ]
  },
  {
   "cell_type": "code",
   "execution_count": 31,
   "id": "ab083e6a-502d-4f1d-9a3d-19a09b6c72ce",
   "metadata": {},
   "outputs": [
    {
     "data": {
      "text/plain": [
       "True"
      ]
     },
     "execution_count": 31,
     "metadata": {},
     "output_type": "execute_result"
    }
   ],
   "source": [
    "name in name_full"
   ]
  },
  {
   "cell_type": "code",
   "execution_count": null,
   "id": "b220bbeb-7b9e-4295-a785-e3bffb208fea",
   "metadata": {},
   "outputs": [],
   "source": []
  },
  {
   "cell_type": "code",
   "execution_count": null,
   "id": "e25cc4c4-a53f-4726-b29d-6aa25a7c8a07",
   "metadata": {},
   "outputs": [],
   "source": []
  }
 ],
 "metadata": {
  "kernelspec": {
   "display_name": "Python 3 (ipykernel)",
   "language": "python",
   "name": "python3"
  },
  "language_info": {
   "codemirror_mode": {
    "name": "ipython",
    "version": 3
   },
   "file_extension": ".py",
   "mimetype": "text/x-python",
   "name": "python",
   "nbconvert_exporter": "python",
   "pygments_lexer": "ipython3",
   "version": "3.9.12"
  }
 },
 "nbformat": 4,
 "nbformat_minor": 5
}

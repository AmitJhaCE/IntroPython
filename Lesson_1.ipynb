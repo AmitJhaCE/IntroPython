{
 "cells": [
  {
   "cell_type": "markdown",
   "id": "a58793ad-6bd8-4d74-9f5e-1fc58b08a845",
   "metadata": {},
   "source": [
    "## Introduction to python programming"
   ]
  },
  {
   "cell_type": "markdown",
   "id": "cf41d60e-161e-4930-92ba-7dd9e3b3c003",
   "metadata": {},
   "source": [
    "Compound interest formula"
   ]
  },
  {
   "cell_type": "code",
   "execution_count": 1,
   "id": "89aa4f6c-8f6f-4b9c-812f-e4f55b0e6d60",
   "metadata": {},
   "outputs": [],
   "source": [
    "p, r, n = 500000, 10, 5"
   ]
  },
  {
   "cell_type": "code",
   "execution_count": 2,
   "id": "97aa3d41-6317-4e82-adbe-f20eecbf804f",
   "metadata": {},
   "outputs": [],
   "source": [
    "interest = 1 + r/100\n",
    "interest_power = interest**n\n",
    "a = p*interest_power"
   ]
  },
  {
   "cell_type": "markdown",
   "id": "a69536bc-a7a6-4d07-9462-7fc957546be8",
   "metadata": {},
   "source": [
    "## Strings"
   ]
  },
  {
   "cell_type": "code",
   "execution_count": 3,
   "id": "56329304-5fc6-42ac-968a-9349cf947d93",
   "metadata": {},
   "outputs": [],
   "source": [
    "name = 'amit'"
   ]
  },
  {
   "cell_type": "markdown",
   "id": "a4e27ae7-0c7f-4a32-92be-c8fefe0bc69c",
   "metadata": {},
   "source": [
    "Length of the string"
   ]
  },
  {
   "cell_type": "code",
   "execution_count": 4,
   "id": "a1718c77-0a1e-410e-9bbe-837e1a108cc8",
   "metadata": {},
   "outputs": [
    {
     "data": {
      "text/plain": [
       "4"
      ]
     },
     "execution_count": 4,
     "metadata": {},
     "output_type": "execute_result"
    }
   ],
   "source": [
    "len(name)"
   ]
  },
  {
   "cell_type": "markdown",
   "id": "8fe2b566-c92b-4d12-a09e-6bb220ce3cf5",
   "metadata": {},
   "source": [
    "#### List representation of a string"
   ]
  },
  {
   "cell_type": "code",
   "execution_count": 5,
   "id": "f8ab7d85-2c9f-4e28-8aff-7b895b2e3f6b",
   "metadata": {},
   "outputs": [],
   "source": [
    "name_list = ['a', 'm', 'i', 't']"
   ]
  },
  {
   "cell_type": "code",
   "execution_count": 6,
   "id": "65b41ca4-9aeb-42b0-85ac-bbb4f803e998",
   "metadata": {},
   "outputs": [
    {
     "data": {
      "text/plain": [
       "4"
      ]
     },
     "execution_count": 6,
     "metadata": {},
     "output_type": "execute_result"
    }
   ],
   "source": [
    "len(name_list)"
   ]
  },
  {
   "cell_type": "markdown",
   "id": "fa4a9717-355d-49a4-8d62-8ce83e4aec3e",
   "metadata": {},
   "source": [
    "String manipulation functions"
   ]
  },
  {
   "cell_type": "markdown",
   "id": "fb2b6a98-1a5d-4791-ac07-8995a4c4df1b",
   "metadata": {},
   "source": [
    "For a string if we write the string or variable name, followed by a dot, then press tab, the notebook is going to give suggestions for functions available for strings"
   ]
  },
  {
   "cell_type": "code",
   "execution_count": 7,
   "id": "74e0bdc1-c10f-4ffc-a851-97c05c848634",
   "metadata": {},
   "outputs": [],
   "source": [
    "name = name.capitalize()"
   ]
  },
  {
   "cell_type": "code",
   "execution_count": 8,
   "id": "62fd09a5-f472-47fe-8656-84fd57eff68c",
   "metadata": {},
   "outputs": [
    {
     "data": {
      "text/plain": [
       "'Amit'"
      ]
     },
     "execution_count": 8,
     "metadata": {},
     "output_type": "execute_result"
    }
   ],
   "source": [
    "name"
   ]
  },
  {
   "cell_type": "markdown",
   "id": "627754ea-4d3e-4d34-9bbf-37195fab6e56",
   "metadata": {},
   "source": [
    "Split strings"
   ]
  },
  {
   "cell_type": "code",
   "execution_count": 9,
   "id": "1fbe2788-d34a-46a0-8f4e-450dc002b26e",
   "metadata": {},
   "outputs": [],
   "source": [
    "x = 'One flew over the cockoos nest over.'"
   ]
  },
  {
   "cell_type": "code",
   "execution_count": 10,
   "id": "2ef508cc-b96e-4a7b-9b7e-b5221045e712",
   "metadata": {},
   "outputs": [
    {
     "data": {
      "text/plain": [
       "['One', 'flew', 'over', 'the', 'cockoos', 'nest', 'over.']"
      ]
     },
     "execution_count": 10,
     "metadata": {},
     "output_type": "execute_result"
    }
   ],
   "source": [
    "x.split(' ')"
   ]
  },
  {
   "cell_type": "code",
   "execution_count": 11,
   "id": "6d7e12d1-c602-4dc5-91f4-b5c618cea32a",
   "metadata": {},
   "outputs": [
    {
     "data": {
      "text/plain": [
       "'One flew not the cockoos nest not.'"
      ]
     },
     "execution_count": 11,
     "metadata": {},
     "output_type": "execute_result"
    }
   ],
   "source": [
    "x.replace('over', 'not')"
   ]
  },
  {
   "cell_type": "code",
   "execution_count": 12,
   "id": "db93ead4-6238-492d-8759-974e77997ab2",
   "metadata": {},
   "outputs": [],
   "source": [
    "y = x.split(' ')"
   ]
  },
  {
   "cell_type": "code",
   "execution_count": 13,
   "id": "65162538-5171-49a8-8117-0c903250cbf0",
   "metadata": {},
   "outputs": [
    {
     "data": {
      "text/plain": [
       "['One', 'flew', 'over', 'the', 'cockoos', 'nest', 'over.']"
      ]
     },
     "execution_count": 13,
     "metadata": {},
     "output_type": "execute_result"
    }
   ],
   "source": [
    "y"
   ]
  },
  {
   "cell_type": "code",
   "execution_count": 14,
   "id": "9fb05612-f6a8-414a-886f-87986e52d131",
   "metadata": {},
   "outputs": [
    {
     "data": {
      "text/plain": [
       "'One flew over the cockoos nest over.'"
      ]
     },
     "execution_count": 14,
     "metadata": {},
     "output_type": "execute_result"
    }
   ],
   "source": [
    "' '.join(y)"
   ]
  },
  {
   "cell_type": "code",
   "execution_count": 15,
   "id": "0cf42b77-ef6c-4a8e-87d3-d568c5cd4d38",
   "metadata": {},
   "outputs": [
    {
     "data": {
      "text/plain": [
       "'amit'"
      ]
     },
     "execution_count": 15,
     "metadata": {},
     "output_type": "execute_result"
    }
   ],
   "source": [
    "''.join(name_list)"
   ]
  },
  {
   "cell_type": "code",
   "execution_count": 16,
   "id": "3774b25b-9614-47c1-9ebc-a2bb908ba981",
   "metadata": {},
   "outputs": [],
   "source": [
    "y = ['One', 'flew', 'over', 'the', ['a', 'm', 'i', 't'], 'cockoos', 'nest.']"
   ]
  },
  {
   "cell_type": "code",
   "execution_count": 17,
   "id": "a3f43b42-d9d5-4d0e-b9d6-80b0a8c4da8f",
   "metadata": {},
   "outputs": [
    {
     "data": {
      "text/plain": [
       "['One', 'flew', 'over', 'the', ['a', 'm', 'i', 't'], 'cockoos', 'nest.']"
      ]
     },
     "execution_count": 17,
     "metadata": {},
     "output_type": "execute_result"
    }
   ],
   "source": [
    "y"
   ]
  },
  {
   "cell_type": "code",
   "execution_count": 18,
   "id": "256e629b-7c9a-46cc-8c55-c04352d1a1fa",
   "metadata": {},
   "outputs": [
    {
     "ename": "TypeError",
     "evalue": "sequence item 4: expected str instance, list found",
     "output_type": "error",
     "traceback": [
      "\u001b[0;31m---------------------------------------------------------------------------\u001b[0m",
      "\u001b[0;31mTypeError\u001b[0m                                 Traceback (most recent call last)",
      "Input \u001b[0;32mIn [18]\u001b[0m, in \u001b[0;36m<cell line: 1>\u001b[0;34m()\u001b[0m\n\u001b[0;32m----> 1\u001b[0m \u001b[38;5;124;43m'\u001b[39;49m\u001b[38;5;124;43m \u001b[39;49m\u001b[38;5;124;43m'\u001b[39;49m\u001b[38;5;241;43m.\u001b[39;49m\u001b[43mjoin\u001b[49m\u001b[43m(\u001b[49m\u001b[43my\u001b[49m\u001b[43m)\u001b[49m\n",
      "\u001b[0;31mTypeError\u001b[0m: sequence item 4: expected str instance, list found"
     ]
    }
   ],
   "source": [
    "' '.join(y)"
   ]
  },
  {
   "cell_type": "markdown",
   "id": "9fce8a65-7c2c-45c8-b32b-3c32a7e98601",
   "metadata": {},
   "source": [
    "join only accepts list of strings"
   ]
  },
  {
   "cell_type": "markdown",
   "id": "73d52705-abda-4fba-8bd4-02909f34b5d3",
   "metadata": {},
   "source": [
    "Function arguments have to be of a specific type as defined when the function is written"
   ]
  },
  {
   "cell_type": "markdown",
   "id": "ae1acd50-6afd-4694-9337-2596b2ad5553",
   "metadata": {
    "tags": []
   },
   "source": [
    "### Check if character is in a string"
   ]
  },
  {
   "cell_type": "code",
   "execution_count": 19,
   "id": "bbc98959-b2ce-47df-9aa7-e166cc38f76c",
   "metadata": {},
   "outputs": [],
   "source": [
    "name = 'amit'"
   ]
  },
  {
   "cell_type": "code",
   "execution_count": 20,
   "id": "2032b308-737a-4c3a-9def-3539cc12d383",
   "metadata": {},
   "outputs": [],
   "source": [
    "name_full = 'amit kumar jha'"
   ]
  },
  {
   "cell_type": "code",
   "execution_count": 21,
   "id": "3f64c6dd-eaf4-48df-98d2-306bffd4bcdb",
   "metadata": {},
   "outputs": [
    {
     "data": {
      "text/plain": [
       "True"
      ]
     },
     "execution_count": 21,
     "metadata": {},
     "output_type": "execute_result"
    }
   ],
   "source": [
    "name in name_full"
   ]
  },
  {
   "cell_type": "code",
   "execution_count": 22,
   "id": "7341cd82-22be-408d-8e34-eb6faa246cca",
   "metadata": {},
   "outputs": [],
   "source": [
    "name_full_list = name_full.split(' ')"
   ]
  },
  {
   "cell_type": "code",
   "execution_count": 23,
   "id": "30f5de4c-b0e1-40ce-835d-8efe85030f02",
   "metadata": {},
   "outputs": [
    {
     "data": {
      "text/plain": [
       "'amit kumar jha'"
      ]
     },
     "execution_count": 23,
     "metadata": {},
     "output_type": "execute_result"
    }
   ],
   "source": [
    "name_full"
   ]
  },
  {
   "cell_type": "markdown",
   "id": "4ecf43ff-e7d4-4940-b54a-d28d0ae88e5b",
   "metadata": {},
   "source": [
    "Check for item in list"
   ]
  },
  {
   "cell_type": "code",
   "execution_count": 24,
   "id": "ab083e6a-502d-4f1d-9a3d-19a09b6c72ce",
   "metadata": {},
   "outputs": [
    {
     "data": {
      "text/plain": [
       "True"
      ]
     },
     "execution_count": 24,
     "metadata": {},
     "output_type": "execute_result"
    }
   ],
   "source": [
    "name in name_full"
   ]
  },
  {
   "cell_type": "markdown",
   "id": "26f22864-50dd-45a1-a42f-8775d1c1bded",
   "metadata": {},
   "source": [
    "## Access elements in a list or a string"
   ]
  },
  {
   "cell_type": "code",
   "execution_count": 29,
   "id": "e25cc4c4-a53f-4726-b29d-6aa25a7c8a07",
   "metadata": {},
   "outputs": [],
   "source": [
    "names = ['amit', 'ashish', 'bhavna', 'devashish', 'ketkee']"
   ]
  },
  {
   "cell_type": "code",
   "execution_count": 31,
   "id": "e6507ffc-e32e-41e7-ab39-3ca5bf02cb49",
   "metadata": {},
   "outputs": [
    {
     "data": {
      "text/plain": [
       "5"
      ]
     },
     "execution_count": 31,
     "metadata": {},
     "output_type": "execute_result"
    }
   ],
   "source": [
    "len(names)"
   ]
  },
  {
   "cell_type": "code",
   "execution_count": 32,
   "id": "b84321af-c856-405a-b4ae-6bfc9837c809",
   "metadata": {},
   "outputs": [],
   "source": [
    "x = 'ketkee'"
   ]
  },
  {
   "cell_type": "code",
   "execution_count": 36,
   "id": "cc5167a7-7023-4350-9574-48272ad0a8f9",
   "metadata": {},
   "outputs": [
    {
     "data": {
      "text/plain": [
       "True"
      ]
     },
     "execution_count": 36,
     "metadata": {},
     "output_type": "execute_result"
    }
   ],
   "source": [
    "x in names"
   ]
  },
  {
   "cell_type": "markdown",
   "id": "ace1198f-f7fa-4f36-a40c-1f3aeff8a79b",
   "metadata": {},
   "source": [
    "### Access elements of a list"
   ]
  },
  {
   "cell_type": "code",
   "execution_count": 39,
   "id": "3f0e4169-acdf-4974-9bc5-4ca52b8da7a5",
   "metadata": {},
   "outputs": [
    {
     "data": {
      "text/plain": [
       "'amit'"
      ]
     },
     "execution_count": 39,
     "metadata": {},
     "output_type": "execute_result"
    }
   ],
   "source": [
    "names[0]"
   ]
  },
  {
   "cell_type": "code",
   "execution_count": 40,
   "id": "67803686-b70e-47fc-ae7c-ff36ee0716b0",
   "metadata": {},
   "outputs": [
    {
     "data": {
      "text/plain": [
       "'ketkee'"
      ]
     },
     "execution_count": 40,
     "metadata": {},
     "output_type": "execute_result"
    }
   ],
   "source": [
    "names[len(names)-1]"
   ]
  },
  {
   "cell_type": "code",
   "execution_count": 42,
   "id": "c1a0adfc-28ad-4f0f-a061-00354bc09a02",
   "metadata": {},
   "outputs": [
    {
     "data": {
      "text/plain": [
       "('ketkee', 'amit')"
      ]
     },
     "execution_count": 42,
     "metadata": {},
     "output_type": "execute_result"
    }
   ],
   "source": [
    "names[-1], names[-5]"
   ]
  },
  {
   "cell_type": "markdown",
   "id": "1e6ac8ea-85e7-43f6-8fad-4651272e1c6f",
   "metadata": {},
   "source": [
    "0 -> 1 -> 2 -> 3 -> 4 <br>\n",
    "['amit', 'ashish', 'bhavna', 'devashish', 'ketkee'] <br>\n",
    "-5 -> -4 -> -3 -> -2 -> -1"
   ]
  },
  {
   "cell_type": "markdown",
   "id": "d6bb860a-b93a-4054-af01-c77728e96f6c",
   "metadata": {},
   "source": [
    "### List splicing - Creates a subset"
   ]
  },
  {
   "cell_type": "code",
   "execution_count": 50,
   "id": "dd405e1f-2d63-44ab-8952-cf08228364ca",
   "metadata": {},
   "outputs": [
    {
     "data": {
      "text/plain": [
       "['amit', 'ashish', 'bhavna', 'devashish']"
      ]
     },
     "execution_count": 50,
     "metadata": {},
     "output_type": "execute_result"
    }
   ],
   "source": [
    "names[0:4] # the first number is the index of the first element to pick\n",
    "# The second number is the index of the first element to not pick"
   ]
  },
  {
   "cell_type": "code",
   "execution_count": 51,
   "id": "4ee21080-b2e8-4086-a133-902437acd1ef",
   "metadata": {},
   "outputs": [],
   "source": [
    "x = [1,2,3,4,5]"
   ]
  },
  {
   "cell_type": "code",
   "execution_count": 58,
   "id": "37f81b65-01cc-4e2a-a5b0-1cd2c833dc15",
   "metadata": {},
   "outputs": [
    {
     "data": {
      "text/plain": [
       "[5]"
      ]
     },
     "execution_count": 58,
     "metadata": {},
     "output_type": "execute_result"
    }
   ],
   "source": [
    "x[2:5]"
   ]
  },
  {
   "cell_type": "code",
   "execution_count": 55,
   "id": "a6cace9f-1691-428f-b750-d55bcf8d8125",
   "metadata": {},
   "outputs": [
    {
     "data": {
      "text/plain": [
       "([2, 3, 4, 5], [1, 2])"
      ]
     },
     "execution_count": 55,
     "metadata": {},
     "output_type": "execute_result"
    }
   ],
   "source": [
    "x[1:], x[:2]"
   ]
  },
  {
   "cell_type": "code",
   "execution_count": 56,
   "id": "dbcf74a1-6ea4-47c3-ad60-ad20f66d1cd6",
   "metadata": {},
   "outputs": [],
   "source": [
    "x = x[2:]"
   ]
  },
  {
   "cell_type": "code",
   "execution_count": 57,
   "id": "8aca57c3-add5-48e2-b2db-aa57ffd27492",
   "metadata": {},
   "outputs": [
    {
     "data": {
      "text/plain": [
       "[3, 4, 5]"
      ]
     },
     "execution_count": 57,
     "metadata": {},
     "output_type": "execute_result"
    }
   ],
   "source": [
    "x"
   ]
  },
  {
   "cell_type": "markdown",
   "id": "75e7d751-3d12-4dbe-966c-9313e61dd1e9",
   "metadata": {},
   "source": [
    "### Looping through elements of a list"
   ]
  },
  {
   "cell_type": "code",
   "execution_count": 59,
   "id": "790e21ab-8879-42a9-bb29-6c9bbcacf977",
   "metadata": {},
   "outputs": [
    {
     "data": {
      "text/plain": [
       "'Amit'"
      ]
     },
     "execution_count": 59,
     "metadata": {},
     "output_type": "execute_result"
    }
   ],
   "source": [
    "names[0].capitalize()"
   ]
  },
  {
   "cell_type": "code",
   "execution_count": 60,
   "id": "bf805519-f75b-4a7c-b308-983739d48d08",
   "metadata": {},
   "outputs": [
    {
     "ename": "AttributeError",
     "evalue": "'list' object has no attribute 'capitalize'",
     "output_type": "error",
     "traceback": [
      "\u001b[0;31m---------------------------------------------------------------------------\u001b[0m",
      "\u001b[0;31mAttributeError\u001b[0m                            Traceback (most recent call last)",
      "Input \u001b[0;32mIn [60]\u001b[0m, in \u001b[0;36m<cell line: 1>\u001b[0;34m()\u001b[0m\n\u001b[0;32m----> 1\u001b[0m \u001b[43mnames\u001b[49m\u001b[38;5;241;43m.\u001b[39;49m\u001b[43mcapitalize\u001b[49m()\n",
      "\u001b[0;31mAttributeError\u001b[0m: 'list' object has no attribute 'capitalize'"
     ]
    }
   ],
   "source": [
    "names.capitalize()"
   ]
  },
  {
   "cell_type": "markdown",
   "id": "808dcb9e-0bf8-45bf-97da-471d9116ad6c",
   "metadata": {},
   "source": [
    "### For loops"
   ]
  },
  {
   "cell_type": "code",
   "execution_count": 69,
   "id": "25c67f64-860a-444a-a4a0-7a2d578e3db7",
   "metadata": {},
   "outputs": [
    {
     "name": "stdout",
     "output_type": "stream",
     "text": [
      "['Amit', 'Ashish', 'Bhavna', 'Devashish', 'Ketkee']\n"
     ]
    }
   ],
   "source": [
    "names_capitalized = []\n",
    "for name in names: \n",
    "    names_capitalized.append(name.capitalize())\n",
    "print(names_capitalized)"
   ]
  },
  {
   "cell_type": "code",
   "execution_count": 72,
   "id": "fdb8378e-30d8-4c0a-addc-348b0830196e",
   "metadata": {},
   "outputs": [
    {
     "data": {
      "text/plain": [
       "['Amit', 'Ashish', 'Bhavna', 'Devashish', 'Ketkee']"
      ]
     },
     "execution_count": 72,
     "metadata": {},
     "output_type": "execute_result"
    }
   ],
   "source": [
    "names_capitalized"
   ]
  },
  {
   "cell_type": "markdown",
   "id": "42d972a5-df70-4fd5-b9f3-f34dc67f35bb",
   "metadata": {},
   "source": [
    "### IF ELSE"
   ]
  },
  {
   "cell_type": "code",
   "execution_count": 83,
   "id": "550f25d5-d892-4f64-b25a-f2b54f9e6e8d",
   "metadata": {},
   "outputs": [
    {
     "name": "stdout",
     "output_type": "stream",
     "text": [
      "Ketkee\n"
     ]
    }
   ],
   "source": [
    "x = names_capitalized[4]\n",
    "print(x)"
   ]
  },
  {
   "cell_type": "code",
   "execution_count": 84,
   "id": "f5ae06ca-9917-41a7-af14-9811fc553110",
   "metadata": {},
   "outputs": [
    {
     "data": {
      "text/plain": [
       "False"
      ]
     },
     "execution_count": 84,
     "metadata": {},
     "output_type": "execute_result"
    }
   ],
   "source": [
    "x[0] == 'A'"
   ]
  },
  {
   "cell_type": "code",
   "execution_count": 86,
   "id": "f574d91b-485d-4e72-8c6b-ba9ed5ab455d",
   "metadata": {},
   "outputs": [
    {
     "name": "stdout",
     "output_type": "stream",
     "text": [
      "does not start with A\n"
     ]
    }
   ],
   "source": [
    "if x[0] == 'A':\n",
    "    print('starts with A')\n",
    "else:\n",
    "    print('does not start with A')"
   ]
  },
  {
   "cell_type": "markdown",
   "id": "835eb07b-8100-4574-8074-33df30679b25",
   "metadata": {},
   "source": [
    "### Create a new list from the list names_capitalized, if the name does not start with A"
   ]
  },
  {
   "cell_type": "code",
   "execution_count": 90,
   "id": "26d4a77f-f46e-43bc-a3c0-003c8401f932",
   "metadata": {},
   "outputs": [],
   "source": [
    "new_names_list = []"
   ]
  },
  {
   "cell_type": "code",
   "execution_count": 95,
   "id": "4ac0d51a-8f60-417d-a7de-d870424a2bda",
   "metadata": {},
   "outputs": [],
   "source": [
    "for name in names_capitalized:\n",
    "    if not name.startswith('A'):\n",
    "        new_names_list.append(name)"
   ]
  },
  {
   "cell_type": "code",
   "execution_count": 96,
   "id": "14836b88-3a80-48a9-86ce-09884bd423cd",
   "metadata": {},
   "outputs": [
    {
     "data": {
      "text/plain": [
       "['Bhavna', 'Devashish', 'Ketkee']"
      ]
     },
     "execution_count": 96,
     "metadata": {},
     "output_type": "execute_result"
    }
   ],
   "source": [
    "new_names_list"
   ]
  },
  {
   "cell_type": "code",
   "execution_count": 97,
   "id": "c7b4ce30-55d6-4f7a-a5d9-0838fc56f334",
   "metadata": {},
   "outputs": [],
   "source": [
    "cities = ['Mumbai', 'Agra', 'Mangalore', 'Ajmer']"
   ]
  },
  {
   "cell_type": "code",
   "execution_count": 98,
   "id": "7c64c726-1bd1-4cfc-80b8-e814957800e6",
   "metadata": {},
   "outputs": [],
   "source": [
    "cities_m, cities_a = [], []"
   ]
  },
  {
   "cell_type": "code",
   "execution_count": null,
   "id": "eee2db4d-02b7-4be1-a7e9-a42de6b2cd28",
   "metadata": {},
   "outputs": [],
   "source": []
  }
 ],
 "metadata": {
  "kernelspec": {
   "display_name": "Python 3 (ipykernel)",
   "language": "python",
   "name": "python3"
  },
  "language_info": {
   "codemirror_mode": {
    "name": "ipython",
    "version": 3
   },
   "file_extension": ".py",
   "mimetype": "text/x-python",
   "name": "python",
   "nbconvert_exporter": "python",
   "pygments_lexer": "ipython3",
   "version": "3.9.12"
  }
 },
 "nbformat": 4,
 "nbformat_minor": 5
}
